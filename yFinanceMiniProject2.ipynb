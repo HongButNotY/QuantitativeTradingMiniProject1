{
 "cells": [
  {
   "cell_type": "markdown",
   "id": "70e1fbef-1e39-4179-b93d-b01c3ac4d0d5",
   "metadata": {},
   "source": [
    "# Next Step: Analyze a Second Asset and Its Correlation 🤝\n",
    "We'll download data for a Gold ETF (ticker: GLD) and compare its behavior to the S&P 500 ETF (SPY) you've already analyzed. Gold is often used in portfolios because it can behave differently from the stock market.\n",
    "\n",
    "1. Download Data for Both Assets\n",
    "First, modify your yfinance call to download data for both 'SPY' and 'GLD' at the same time."
   ]
  },
  {
   "cell_type": "code",
   "execution_count": 8,
   "id": "d749862a-4f4f-400e-a995-0892352c2bde",
   "metadata": {},
   "outputs": [],
   "source": [
    "import os\n",
    "import yfinance as yf\n",
    "import pandas as pd\n",
    "import numpy as np\n",
    "import matplotlib.pyplot as plt"
   ]
  },
  {
   "cell_type": "code",
   "execution_count": 1,
   "id": "4cf35408-d77c-455c-b092-2e2c2ba2ee40",
   "metadata": {},
   "outputs": [
    {
     "name": "stderr",
     "output_type": "stream",
     "text": [
      "C:\\Users\\chuaw\\AppData\\Local\\Temp\\ipykernel_21092\\1363766544.py:10: FutureWarning: YF.download() has changed argument auto_adjust default to True\n",
      "  data = yf.download(tickers, start=start_date, end=end_date)\n",
      "[*********************100%***********************]  2 of 2 completed"
     ]
    },
    {
     "name": "stdout",
     "output_type": "stream",
     "text": [
      "--- Downloaded Data Head ---\n",
      "Price            Close                    High                     Low  \\\n",
      "Ticker             GLD         SPY         GLD         SPY         GLD   \n",
      "Date                                                                     \n",
      "2024-10-22  253.929993  576.313477  253.940002  577.479296  252.520004   \n",
      "2024-10-23  250.869995  571.047485  253.179993  574.722834  250.199997   \n",
      "2024-10-24  252.800003  572.282410  253.320007  573.092567  251.399994   \n",
      "2024-10-25  253.320007  572.084839  253.550003  577.439780  251.770004   \n",
      "2024-10-28  253.330002  573.853455  253.630005  575.710878  252.949997   \n",
      "\n",
      "Price                         Open               Volume            \n",
      "Ticker             SPY         GLD         SPY      GLD       SPY  \n",
      "Date                                                               \n",
      "2024-10-22  573.408788  253.059998  574.070723  5756300  34183800  \n",
      "2024-10-23  567.520359  253.080002  574.278227  8081000  49314600  \n",
      "2024-10-24  569.644497  253.270004  573.013511  5962200  34979900  \n",
      "2024-10-25  571.136409  252.000000  574.525202  4424500  47268200  \n",
      "2024-10-28  573.547181  253.009995  575.582435  4029100  30174700  \n"
     ]
    },
    {
     "name": "stderr",
     "output_type": "stream",
     "text": [
      "\n"
     ]
    }
   ],
   "source": [
    "import yfinance as yf\n",
    "import numpy as np\n",
    "\n",
    "# Define tickers and dates\n",
    "tickers = [\"SPY\", \"GLD\"]\n",
    "start_date = \"2024-10-22\"\n",
    "end_date = \"2025-10-22\"\n",
    "\n",
    "# Download the historical data\n",
    "data = yf.download(tickers, start=start_date, end=end_date)\n",
    "\n",
    "print(\"--- Downloaded Data Head ---\")\n",
    "print(data.head())"
   ]
  },
  {
   "cell_type": "code",
   "execution_count": 4,
   "id": "4c6ab9e6-0e98-41aa-9ddb-c04ab2628f56",
   "metadata": {},
   "outputs": [
    {
     "data": {
      "text/plain": [
       "MultiIndex([( 'Close', 'GLD'),\n",
       "            ( 'Close', 'SPY'),\n",
       "            (  'High', 'GLD'),\n",
       "            (  'High', 'SPY'),\n",
       "            (   'Low', 'GLD'),\n",
       "            (   'Low', 'SPY'),\n",
       "            (  'Open', 'GLD'),\n",
       "            (  'Open', 'SPY'),\n",
       "            ('Volume', 'GLD'),\n",
       "            ('Volume', 'SPY')],\n",
       "           names=['Price', 'Ticker'])"
      ]
     },
     "execution_count": 4,
     "metadata": {},
     "output_type": "execute_result"
    }
   ],
   "source": [
    "data.columns"
   ]
  },
  {
   "cell_type": "markdown",
   "id": "680d2535-32c3-4c8c-8148-10898ee9a280",
   "metadata": {},
   "source": [
    "# 2. Calculate and Compare Log Returns\n",
    "Now, calculate the log returns for the 'Close' price of both assets."
   ]
  },
  {
   "cell_type": "code",
   "execution_count": 2,
   "id": "af606c8e-a96e-4b40-bb11-104c8ee7cccb",
   "metadata": {},
   "outputs": [
    {
     "name": "stdout",
     "output_type": "stream",
     "text": [
      "\n",
      "--- Log Returns ---\n",
      "Ticker           GLD       SPY\n",
      "Date                          \n",
      "2024-10-23 -0.012124 -0.009179\n",
      "2024-10-24  0.007664  0.002160\n",
      "2024-10-25  0.002055 -0.000345\n",
      "2024-10-28  0.000039  0.003087\n",
      "2024-10-29  0.010836  0.001617\n"
     ]
    }
   ],
   "source": [
    "# Isolate the 'Close' prices from the MultiIndex DataFrame\n",
    "close_prices = data['Close']\n",
    "\n",
    "# Calculate log returns for both tickers\n",
    "log_returns = np.log(close_prices / close_prices.shift(1))\n",
    "\n",
    "# Drop the first row which is NaN\n",
    "log_returns = log_returns.dropna()\n",
    "\n",
    "print(\"\\n--- Log Returns ---\")\n",
    "print(log_returns.head())"
   ]
  },
  {
   "cell_type": "markdown",
   "id": "e1b3a899-bb08-4c2e-8573-577e017503da",
   "metadata": {},
   "source": [
    "# 2. Calculate and Compare Log Returns\n",
    "Now, calculate the log returns for the 'Close' price of both assets.\n",
    "<h2>What Your Results Mean</h2>\n",
    "The output of the last step will be a correlation matrix. It will show you a number between -1 and 1 that describes how SPY and GLD returns are related.\n",
    "<ul>Close to 1: The assets move in lockstep (e.g., when SPY goes up, GLD also tends to go up).</ul>\n",
    "\n",
    "<ul>Close to 0: The assets have very little relationship; their movements are mostly independent.</ul>\n",
    "\n",
    "<ul>Close to -1: The assets move in opposite directions (e.g., when SPY goes up, GLD tends to go down).</ul>"
   ]
  },
  {
   "cell_type": "code",
   "execution_count": 3,
   "id": "9896cad2-9af4-4f4c-b7eb-f166929613a4",
   "metadata": {},
   "outputs": [
    {
     "name": "stdout",
     "output_type": "stream",
     "text": [
      "\n",
      "--- Correlation Matrix ---\n",
      "Ticker       GLD       SPY\n",
      "Ticker                    \n",
      "GLD     1.000000  0.023569\n",
      "SPY     0.023569  1.000000\n"
     ]
    }
   ],
   "source": [
    "# Calculate the correlation matrix\n",
    "correlation_matrix = log_returns.corr()\n",
    "\n",
    "print(\"\\n--- Correlation Matrix ---\")\n",
    "print(correlation_matrix)"
   ]
  },
  {
   "cell_type": "markdown",
   "id": "f4e911ad-e3af-4cc0-911d-1652047f8c56",
   "metadata": {},
   "source": [
    "Now that you have the individual returns, risks, and the correlation between SPY and GLD, the next step is to combine them into a single portfolio. This will let you see the power of diversification in action.\n",
    "\n",
    "You'll calculate the expected return and risk for a portfolio with a specific mix of these two assets. This is the practical application of Modern Portfolio Theory.\n",
    "\n",
    "Calculate Portfolio Risk and Return\n",
    "Let's start with a simple, equally-weighted portfolio: 50% in SPY and 50% in GLD. We need to calculate the overall return and risk for this combination.\n",
    "\n",
    "1. Define Weights and Calculate Individual Returns\n",
    "First, define the weights and calculate the annualized returns for each asset, just as you did for SPY alone."
   ]
  },
  {
   "cell_type": "code",
   "execution_count": 5,
   "id": "6cb60be4-09fc-405f-8e98-c448b9e933a2",
   "metadata": {},
   "outputs": [
    {
     "name": "stdout",
     "output_type": "stream",
     "text": [
      "--- Annualized Individual Returns ---\n",
      "Ticker\n",
      "GLD    0.400592\n",
      "SPY    0.154387\n",
      "dtype: float64\n"
     ]
    }
   ],
   "source": [
    "# Define portfolio weights\n",
    "weights = np.array([0.5, 0.5]) # 50% SPY, 50% GLD\n",
    "\n",
    "# Calculate annualized individual returns\n",
    "annualized_returns = log_returns.mean() * 252\n",
    "\n",
    "print(\"--- Annualized Individual Returns ---\")\n",
    "print(annualized_returns)"
   ]
  },
  {
   "cell_type": "markdown",
   "id": "cf07bc0f-5e1f-4915-a08a-f57a24eb4411",
   "metadata": {},
   "source": [
    "# 2. Calculate Portfolio Return\n",
    "The portfolio's return is simply the weighted average of the individual asset returns."
   ]
  },
  {
   "cell_type": "code",
   "execution_count": 6,
   "id": "1c3b7e40-2b93-45ba-ad2c-434654186a9d",
   "metadata": {},
   "outputs": [
    {
     "name": "stdout",
     "output_type": "stream",
     "text": [
      "\n",
      "Expected Portfolio Return: 27.75%\n"
     ]
    }
   ],
   "source": [
    "# Calculate portfolio return\n",
    "portfolio_return = np.sum(annualized_returns * weights)\n",
    "\n",
    "print(f\"\\nExpected Portfolio Return: {portfolio_return:.2%}\")"
   ]
  },
  {
   "cell_type": "markdown",
   "id": "6b8fd4e6-457c-4caa-9e4c-1b4fb23e4ea5",
   "metadata": {},
   "source": [
    "# 3. Calculate Portfolio Risk (Volatility)\n",
    "Calculating portfolio risk is more complex because it must account for how the assets move together (their covariance). The formula for a two-asset portfolio's variance is:$$\\sigma_p^2 = w_1^2\\sigma_1^2 + w_2^2\\sigma_2^2 + 2w_1w_2Cov_{1,2}$$Thankfully, we can use matrix algebra to simplify this for any number of assets."
   ]
  },
  {
   "cell_type": "code",
   "execution_count": 7,
   "id": "7e7164cd-1e95-4971-b69a-458fd6bae306",
   "metadata": {},
   "outputs": [
    {
     "name": "stdout",
     "output_type": "stream",
     "text": [
      "Portfolio Risk (Volatility): 14.04%\n"
     ]
    }
   ],
   "source": [
    "# Calculate the covariance matrix of the log returns\n",
    "cov_matrix = log_returns.cov() * 252 # Annualize the covariance\n",
    "\n",
    "# Calculate portfolio variance\n",
    "portfolio_variance = np.dot(weights.T, np.dot(cov_matrix, weights))\n",
    "\n",
    "# Calculate portfolio risk (standard deviation)\n",
    "portfolio_risk = np.sqrt(portfolio_variance)\n",
    "\n",
    "print(f\"Portfolio Risk (Volatility): {portfolio_risk:.2%}\")"
   ]
  },
  {
   "cell_type": "markdown",
   "id": "0567820f-3698-4b61-8bc6-202f8171c390",
   "metadata": {},
   "source": [
    "# What This Tells You 💡\n",
    "By running this code, you'll get the specific risk and return for a 50/50 portfolio. You will likely notice that the portfolio's risk is lower than the weighted average of the individual risks. This \"magic\" is the benefit of diversification, and it happens because the assets are not perfectly correlated.\n",
    "\n",
    "The next exciting step is to realize that you can change the weights (e.g., 60/40, 70/30) and calculate the risk/return for each combination. Plotting all these possible portfolios creates the famous Efficient Frontier, which shows the best possible return you can get for any given level of risk."
   ]
  },
  {
   "cell_type": "markdown",
   "id": "c42c0fe9-80e5-49c2-aa7c-450a1a18c522",
   "metadata": {},
   "source": [
    "# Let's create the Efficient Frontier. \n",
    "This is the final and most important visualization in Modern Portfolio Theory.\n",
    "\n",
    "The Efficient Frontier is a curve that shows all the best possible portfolios you can create from a given set of assets. Any portfolio on the frontier gives you the highest possible return for its level of risk. \n",
    "\n",
    "Simulating Portfolios to Build the Frontier 📈\n",
    "To create this curve, we'll simulate thousands of different portfolio weight combinations for SPY and GLD. For each combination, we'll calculate the portfolio's overall risk and return and then plot them on a graph.\n",
    "\n",
    "Python Code\n",
    "This code continues from your previous script. It will simulate 10,000 different portfolios, calculate their risk, return, and Sharpe Ratio, and then plot them all."
   ]
  },
  {
   "cell_type": "code",
   "execution_count": 8,
   "id": "91b22ee0-1d75-4ebf-8f4b-db0f6c9d46c5",
   "metadata": {},
   "outputs": [
    {
     "data": {
      "image/png": "[encoded data removed]",
      "text/plain": [
       "<Figure size 1200x700 with 1 Axes>"
      ]
     },
     "metadata": {},
     "output_type": "display_data"
    }
   ],
   "source": [
    "import pandas as pd\n",
    "import matplotlib.pyplot as plt\n",
    "\n",
    "# --- (Previous code for log_returns, cov_matrix, and annualized_returns) ---\n",
    "\n",
    "# --- SIMULATION ---\n",
    "# Set the number of portfolio simulations\n",
    "num_portfolios = 10000\n",
    "\n",
    "# Create empty lists to store our results\n",
    "results = []\n",
    "weights_list = []\n",
    "\n",
    "for i in range(num_portfolios):\n",
    "    # 1. Generate random weights that sum to 1\n",
    "    weights = np.random.random(len(tickers))\n",
    "    weights /= np.sum(weights)\n",
    "    weights_list.append(weights)\n",
    "\n",
    "    # 2. Calculate portfolio return and risk for the current weights\n",
    "    p_return = np.sum(annualized_returns * weights)\n",
    "    p_risk = np.sqrt(np.dot(weights.T, np.dot(cov_matrix, weights)))\n",
    "\n",
    "    # 3. Store the results\n",
    "    results.append([p_return, p_risk])\n",
    "\n",
    "# Convert results list to a DataFrame\n",
    "results_df = pd.DataFrame(results, columns=['Return', 'Risk'])\n",
    "\n",
    "# --- PLOTTING ---\n",
    "plt.figure(figsize=(12, 7))\n",
    "plt.scatter(results_df['Risk'], results_df['Return'], alpha=0.5)\n",
    "plt.title('Efficient Frontier for SPY and GLD')\n",
    "plt.xlabel('Annualized Risk (Volatility)')\n",
    "plt.ylabel('Annualized Return')\n",
    "plt.grid(True)\n",
    "plt.show()"
   ]
  },
  {
   "cell_type": "code",
   "execution_count": null,
   "id": "79837c1c-dd7b-485a-a7f9-6d6ee8fa3f2d",
   "metadata": {},
   "outputs": [],
   "source": []
  }
 ],
 "metadata": {
  "kernelspec": {
   "display_name": "python Finance1 kernel",
   "language": "python",
   "name": "finance1-kernel"
  },
  "language_info": {
   "codemirror_mode": {
    "name": "ipython",
    "version": 3
   },
   "file_extension": ".py",
   "mimetype": "text/x-python",
   "name": "python",
   "nbconvert_exporter": "python",
   "pygments_lexer": "ipython3",
   "version": "3.12.11"
  }
 },
 "nbformat": 4,
 "nbformat_minor": 5
}
